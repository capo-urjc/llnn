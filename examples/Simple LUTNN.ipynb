{
 "cells": [
  {
   "cell_type": "markdown",
   "metadata": {},
   "source": [
    "# Training a Simple LUTNN"
   ]
  },
  {
   "cell_type": "code",
   "execution_count": 1,
   "metadata": {},
   "outputs": [
    {
     "name": "stderr",
     "output_type": "stream",
     "text": [
      "/home/iramirez/anaconda3/envs/dlogic/lib/python3.9/site-packages/tqdm/auto.py:21: TqdmWarning: IProgress not found. Please update jupyter and ipywidgets. See https://ipywidgets.readthedocs.io/en/stable/user_install.html\n",
      "  from .autonotebook import tqdm as notebook_tqdm\n"
     ]
    }
   ],
   "source": [
    "import torch\n",
    "import torch.optim as optim\n",
    "from lutnn.lutlayer import LUTLayer, Aggregation"
   ]
  },
  {
   "cell_type": "code",
   "execution_count": 2,
   "metadata": {},
   "outputs": [],
   "source": [
    "from utils.mnist import load_mnist_dataset\n",
    "train_loader, test_loader, input_dim_dataset, num_classes = load_mnist_dataset(batch_size=128, mnist20=True)"
   ]
  },
  {
   "cell_type": "code",
   "execution_count": 3,
   "metadata": {},
   "outputs": [],
   "source": [
    "# Define a simple LUTNN\n",
    "class SimpleLUTNN(torch.nn.Module):\n",
    "    def __init__(self):\n",
    "        super(SimpleLUTNN, self).__init__()\n",
    "        self.layer1 = LUTLayer(input_dim=input_dim_dataset, lut_size=6, n_luts=2048)\n",
    "        self.layer2 = LUTLayer(input_dim=2048, lut_size=6, n_luts=4000)\n",
    "        self.layer3 = Aggregation(num_classes=num_classes, tau = 10.)\n",
    "\n",
    "    def forward(self, x):\n",
    "        x = x.view(-1, 20*20)  # Flatten the input\n",
    "        x = self.layer1(x)\n",
    "        x = self.layer2(x)\n",
    "        x = self.layer3(x)\n",
    "        return x"
   ]
  },
  {
   "cell_type": "code",
   "execution_count": 4,
   "metadata": {},
   "outputs": [
    {
     "name": "stdout",
     "output_type": "stream",
     "text": [
      "cuda\n"
     ]
    }
   ],
   "source": [
    "device = torch.device('cuda' if torch.cuda.is_available() else 'cpu')\n",
    "print(device)\n",
    "model = SimpleLUTNN().to(device)\n",
    "criterion = torch.nn.CrossEntropyLoss()\n",
    "optimizer = optim.Adam(model.parameters(), lr=0.01)"
   ]
  },
  {
   "cell_type": "code",
   "execution_count": 5,
   "metadata": {},
   "outputs": [
    {
     "name": "stdout",
     "output_type": "stream",
     "text": [
      "Epoch [1/4], Step [0/468], Loss: 2.3123\n",
      "Epoch [1/4], Step [100/468], Loss: 0.4844\n",
      "Epoch [1/4], Step [200/468], Loss: 0.2999\n",
      "Epoch [1/4], Step [300/468], Loss: 0.2200\n",
      "Epoch [1/4], Step [400/468], Loss: 0.2616\n",
      "Epoch [2/4], Step [0/468], Loss: 0.1745\n",
      "Epoch [2/4], Step [100/468], Loss: 0.1362\n",
      "Epoch [2/4], Step [200/468], Loss: 0.1092\n",
      "Epoch [2/4], Step [300/468], Loss: 0.1060\n",
      "Epoch [2/4], Step [400/468], Loss: 0.2125\n",
      "Epoch [3/4], Step [0/468], Loss: 0.1046\n",
      "Epoch [3/4], Step [100/468], Loss: 0.0623\n",
      "Epoch [3/4], Step [200/468], Loss: 0.0400\n",
      "Epoch [3/4], Step [300/468], Loss: 0.0542\n",
      "Epoch [3/4], Step [400/468], Loss: 0.0975\n",
      "Epoch [4/4], Step [0/468], Loss: 0.0568\n",
      "Epoch [4/4], Step [100/468], Loss: 0.0794\n",
      "Epoch [4/4], Step [200/468], Loss: 0.0792\n",
      "Epoch [4/4], Step [300/468], Loss: 0.1054\n",
      "Epoch [4/4], Step [400/468], Loss: 0.0453\n",
      "Test Accuracy: 97.30%\n"
     ]
    }
   ],
   "source": [
    "# Training loop\n",
    "num_epochs = 4\n",
    "for epoch in range(num_epochs):\n",
    "    model.train()\n",
    "    for batch_idx, (data, target) in enumerate(train_loader):\n",
    "        data, target = data.to(device), target.to(device)\n",
    "        \n",
    "        # Forward pass\n",
    "        outputs = model(data)\n",
    "        loss = criterion(outputs, target)\n",
    "        \n",
    "        # Backward pass and optimization\n",
    "        optimizer.zero_grad()\n",
    "        loss.backward()\n",
    "        optimizer.step()\n",
    "\n",
    "        if batch_idx % 100 == 0:\n",
    "            print(f'Epoch [{epoch+1}/{num_epochs}], Step [{batch_idx}/{len(train_loader)}], Loss: {loss.item():.4f}')\n",
    "\n",
    "# Evaluation\n",
    "model.eval()\n",
    "correct = 0\n",
    "total = 0\n",
    "with torch.no_grad():\n",
    "    for data, target in test_loader:\n",
    "        data, target = data.to(device), target.to(device)\n",
    "        outputs = model(data)\n",
    "        _, predicted = torch.max(outputs.data, 1)\n",
    "        total += target.size(0)\n",
    "        correct += (predicted == target).sum().item()\n",
    "\n",
    "print(f'Test Accuracy: {100 * correct / total:.2f}%')"
   ]
  }
 ],
 "metadata": {
  "kernelspec": {
   "display_name": "Python 3 (ipykernel)",
   "language": "python",
   "name": "python3"
  },
  "language_info": {
   "codemirror_mode": {
    "name": "ipython",
    "version": 3
   },
   "file_extension": ".py",
   "mimetype": "text/x-python",
   "name": "python",
   "nbconvert_exporter": "python",
   "pygments_lexer": "ipython3",
   "version": "3.9.16"
  }
 },
 "nbformat": 4,
 "nbformat_minor": 4
}
